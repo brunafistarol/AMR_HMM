{
 "cells": [
  {
   "cell_type": "code",
   "execution_count": 43,
   "metadata": {},
   "outputs": [],
   "source": [
    "import os\n",
    "import pandas as pd\n",
    "import shutil"
   ]
  },
  {
   "cell_type": "code",
   "execution_count": 2,
   "metadata": {},
   "outputs": [],
   "source": [
    "metadata = 'E:/User/bruna.fistarol/HMM/Salmonella/metadata.tab' #susceptibility profile"
   ]
  },
  {
   "cell_type": "code",
   "execution_count": 3,
   "metadata": {},
   "outputs": [],
   "source": [
    "df = pd.read_csv(metadata, sep='\\t', header=None, names=['Strain', 'Antibiotic', 'MIC'])"
   ]
  },
  {
   "cell_type": "code",
   "execution_count": 4,
   "metadata": {},
   "outputs": [],
   "source": [
    "pivot_df = df.pivot_table(index='Strain', columns='Antibiotic', values='MIC', aggfunc='first')\n",
    "pivot_df.columns = pivot_df.columns.str.rstrip(':MIC')"
   ]
  },
  {
   "cell_type": "markdown",
   "metadata": {},
   "source": [
    "## Creating a table for each antibiotic"
   ]
  },
  {
   "cell_type": "code",
   "execution_count": 5,
   "metadata": {},
   "outputs": [],
   "source": [
    "# A dictionary to store individual dataframes\n",
    "dfs = {}\n",
    "\n",
    "# Split each column into a new dataframe\n",
    "for col in pivot_df.columns:\n",
    "    dfs[col] = pivot_df[[col]].dropna()"
   ]
  },
  {
   "cell_type": "code",
   "execution_count": 19,
   "metadata": {},
   "outputs": [],
   "source": [
    "def profile(x):\n",
    "    if x <= 2:\n",
    "        return(0)\n",
    "    else:\n",
    "        return(1)"
   ]
  },
  {
   "cell_type": "code",
   "execution_count": 20,
   "metadata": {},
   "outputs": [],
   "source": [
    "for antibiotic in dfs.keys():\n",
    "    dfs[antibiotic] = dfs[antibiotic].astype('float')\n",
    "    dfs[antibiotic].iloc[:, 0] = dfs[antibiotic].iloc[:, 0].apply(profile)"
   ]
  },
  {
   "cell_type": "markdown",
   "metadata": {},
   "source": [
    "\n",
    "## Separating the fasta file by antibiotic and susceptibility profile"
   ]
  },
  {
   "cell_type": "code",
   "execution_count": 56,
   "metadata": {},
   "outputs": [],
   "source": [
    "antibiotics_path = 'E:\\\\User\\\\bruna.fistarol\\\\HMM\\\\Salmonella\\\\Antibiotics'"
   ]
  },
  {
   "cell_type": "code",
   "execution_count": 17,
   "metadata": {},
   "outputs": [],
   "source": [
    "strains_path = 'E:\\\\User\\\\bruna.fistarol\\\\HMM\\\\Salmonella\\\\Strains'"
   ]
  },
  {
   "cell_type": "code",
   "execution_count": 60,
   "metadata": {},
   "outputs": [],
   "source": [
    "for antibiotic in dfs.keys():\n",
    "    antibiotic_dir = antibiotics_path + '\\\\' + antibiotic\n",
    "    os.makedirs(antibiotic_dir + '\\\\Susceptible\\\\Strains')\n",
    "    os.makedirs(antibiotic_dir + '\\\\Resistant\\\\Strains')"
   ]
  },
  {
   "cell_type": "code",
   "execution_count": 61,
   "metadata": {},
   "outputs": [],
   "source": [
    "for strain_path in os.listdir(strains_path):\n",
    "    strain = strain_path.split('.')[0]\n",
    "    input_file_path = strains_path + '\\\\' + strain_path\n",
    "    \n",
    "    for antibiotic in dfs.keys():\n",
    "        try:\n",
    "            profile = dfs[antibiotic].loc[strain].item()\n",
    "        except KeyError:\n",
    "            profile = -1\n",
    "            \n",
    "        if profile == 0:\n",
    "            output_file_path = antibiotics_path + '\\\\' + antibiotic + '\\\\Susceptible\\\\Strains\\\\' + strain_path\n",
    "            shutil.copy(input_file_path, output_file_path)\n",
    "        if profile == 1:\n",
    "            output_file_path = antibiotics_path + '\\\\' + antibiotic + '\\\\Resistant\\\\Strains\\\\' + strain_path\n",
    "            shutil.copy(input_file_path, output_file_path)"
   ]
  }
 ],
 "metadata": {
  "kernelspec": {
   "display_name": "Python 3",
   "language": "python",
   "name": "python3"
  },
  "language_info": {
   "codemirror_mode": {
    "name": "ipython",
    "version": 3
   },
   "file_extension": ".py",
   "mimetype": "text/x-python",
   "name": "python",
   "nbconvert_exporter": "python",
   "pygments_lexer": "ipython3",
   "version": "3.7.6"
  }
 },
 "nbformat": 4,
 "nbformat_minor": 4
}
