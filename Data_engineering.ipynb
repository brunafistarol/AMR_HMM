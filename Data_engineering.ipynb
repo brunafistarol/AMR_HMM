{
 "cells": [
  {
   "cell_type": "markdown",
   "metadata": {},
   "source": [
    "## Constructing fasta files from Patric's data"
   ]
  },
  {
   "cell_type": "code",
   "execution_count": null,
   "metadata": {},
   "outputs": [],
   "source": [
    "import os\n",
    "import pandas as pd\n",
    "\n",
    "# Specify the directory containing the TSV files\n",
    "tsv_directory = \"E:\\\\User\\\\bruna.fistarol\\\\HMM\\\\Salmonella\\\\Strains\"\n",
    "\n",
    "# Iterate over each file in the specified directory\n",
    "for filename in os.listdir(tsv_directory):\n",
    "    if filename.endswith(\".tsv\"):\n",
    "        file_path = os.path.join(tsv_directory, filename)\n",
    "        \n",
    "        # Read the TSV file\n",
    "        df = pd.read_csv(file_path, sep='\\t')\n",
    "        \n",
    "        # Filter the dataframe for forward sequences only\n",
    "        fwd_df = df[df['feature.feature_id'].str.endswith('.fwd')]\n",
    "        \n",
    "        # Construct the FASTA format string\n",
    "        fasta_str = \"\"\n",
    "        for index, row in fwd_df.iterrows():\n",
    "            fasta_str += \">{}\\n{}\\n\".format(row['feature.plfam_id'], row['feature.na_sequence'])\n",
    "        \n",
    "        # Write the FASTA format string to a new file\n",
    "        fasta_filename = filename.replace(\".tsv\", \".fasta\")\n",
    "        fasta_filepath = os.path.join(tsv_directory, fasta_filename)\n",
    "        with open(fasta_filepath, \"w\") as fasta_file:\n",
    "            fasta_file.write(fasta_str)\n",
    "        \n",
    "        # Delete the TSV file\n",
    "        os.remove(file_path)\n"
   ]
  },
  {
   "cell_type": "markdown",
   "metadata": {},
   "source": [
    "## Identifying potentialy incomplete genomes by counting"
   ]
  },
  {
   "cell_type": "code",
   "execution_count": null,
   "metadata": {},
   "outputs": [],
   "source": [
    "fasta_directory = \"E:\\\\User\\\\bruna.fistarol\\\\HMM\\\\Salmonella\\\\Strains\"\n",
    "\n",
    "gene_counts = {}\n",
    "\n",
    "for filename in os.listdir(fasta_directory):\n",
    "    if filename.endswith(\".fasta\"):\n",
    "        file_path = os.path.join(fasta_directory, filename)\n",
    "        gene_count = 0\n",
    "        \n",
    "        with open(file_path, \"r\") as fasta_file:\n",
    "            for line in fasta_file:\n",
    "                if line.startswith(\">\"):\n",
    "                    gene_count += 1\n",
    "                    \n",
    "        gene_counts[filename] = gene_count\n",
    "\n",
    "# Determine threshold for low gene count\n",
    "average_gene_count = sum(gene_counts.values()) / len(gene_counts)\n",
    "threshold = average_gene_count * 0.8  # Adjust as necessary\n",
    "\n",
    "# Identify genomes with low gene count\n",
    "incomplete_genomes = [genome for genome, count in gene_counts.items() if count < threshold]\n",
    "print(\"Potential Incomplete Genomes (Low Gene Count):\", incomplete_genomes)"
   ]
  },
  {
   "cell_type": "markdown",
   "metadata": {},
   "source": [
    "## Core genes"
   ]
  },
  {
   "cell_type": "code",
   "execution_count": null,
   "metadata": {},
   "outputs": [],
   "source": [
    "from collections import Counter\n",
    "\n",
    "# Specify the directory containing the FASTA files\n",
    "fasta_directory = \"E:\\\\User\\\\bruna.fistarol\\\\HMM\\\\Salmonella\\\\Strains\"\n",
    "\n",
    "# Initialize a Counter to store the occurrence of each protein family\n",
    "protein_family_counter = Counter()\n",
    "total_files = 0\n",
    "\n",
    "# Initialize a dictionary to store the sequences of core protein families\n",
    "core_protein_families = {}\n",
    "\n",
    "# Step 1: Parse each FASTA file and count protein family occurrences\n",
    "for filename in os.listdir(fasta_directory):\n",
    "    if filename.endswith(\".fasta\"):\n",
    "        total_files += 1\n",
    "        file_path = os.path.join(fasta_directory, filename)\n",
    "        \n",
    "        with open(file_path, \"r\") as fasta_file:\n",
    "            for line in fasta_file:\n",
    "                if line.startswith(\">\"):\n",
    "                    protein_family = line.strip().split(\">\")[1]\n",
    "                    protein_family_counter[protein_family] += 1\n",
    "\n",
    "# Step 2: Identify core protein families\n",
    "threshold = total_files * 0.99  # 99% of all files\n",
    "core_protein_families = {k: v for k, v in protein_family_counter.items() if v > threshold}\n",
    "\n",
    "# Display core protein families\n",
    "print(\"Core Protein Families (Present in more than 99% of files):\")\n",
    "for family in core_protein_families:\n",
    "    print(family)\n",
    "\n",
    "# Optional: Extract sequences of core protein families and save them\n",
    "for protein_family in core_protein_families:\n",
    "    # Creating a new file for each core protein family\n",
    "    output_filepath = os.path.join(fasta_directory, f\"{protein_family}.fasta\")\n",
    "    \n",
    "    with open(output_filepath, \"w\") as output_file:\n",
    "        # Parsing each FASTA file again to extract sequences\n",
    "        for filename in os.listdir(fasta_directory):\n",
    "            if filename.endswith(\".fasta\"):\n",
    "                file_path = os.path.join(fasta_directory, filename)\n",
    "                \n",
    "                with open(file_path, \"r\") as fasta_file:\n",
    "                    write_sequence = False\n",
    "                    for line in fasta_file:\n",
    "                        if line.startswith(\">\"):\n",
    "                            current_protein_family = line.strip().split(\">\")[1]\n",
    "                            if current_protein_family == protein_family:\n",
    "                                write_sequence = True\n",
    "                                output_file.write(line)\n",
    "                            else:\n",
    "                                write_sequence = False\n",
    "                        elif write_sequence:\n",
    "                            output_file.write(line)"
   ]
  },
  {
   "cell_type": "code",
   "execution_count": null,
   "metadata": {},
   "outputs": [],
   "source": []
  },
  {
   "cell_type": "code",
   "execution_count": null,
   "metadata": {},
   "outputs": [],
   "source": []
  },
  {
   "cell_type": "code",
   "execution_count": null,
   "metadata": {},
   "outputs": [],
   "source": []
  }
 ],
 "metadata": {
  "kernelspec": {
   "display_name": "Python 3",
   "language": "python",
   "name": "python3"
  },
  "language_info": {
   "codemirror_mode": {
    "name": "ipython",
    "version": 3
   },
   "file_extension": ".py",
   "mimetype": "text/x-python",
   "name": "python",
   "nbconvert_exporter": "python",
   "pygments_lexer": "ipython3",
   "version": "3.7.6"
  }
 },
 "nbformat": 4,
 "nbformat_minor": 4
}
