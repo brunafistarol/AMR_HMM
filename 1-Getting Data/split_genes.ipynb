{
 "cells": [
  {
   "cell_type": "code",
   "execution_count": 3,
   "metadata": {},
   "outputs": [],
   "source": [
    "# used to run several different prompts and get data faster\n",
    "\n",
    "def count_lines(file_path):\n",
    "    with open(file_path, 'r') as f:\n",
    "        return sum(1 for _ in f)\n",
    "\n",
    "def split_large_file(file_path):\n",
    "    total_lines = count_lines(file_path)\n",
    "    lines_per_file = total_lines // 4\n",
    "    current_file_number = 1\n",
    "    current_line_number = 0\n",
    "\n",
    "    output_file = open(f'split_file_{current_file_number}.txt', 'w')\n",
    "\n",
    "    with open(file_path, 'r') as f:\n",
    "        for line in f:\n",
    "            if current_line_number >= lines_per_file * current_file_number and current_file_number < 4:\n",
    "                output_file.close()\n",
    "                current_file_number += 1\n",
    "                output_file = open(f'split_file_{current_file_number}.txt', 'w')\n",
    "\n",
    "            output_file.write(line)\n",
    "            current_line_number += 1\n",
    "\n",
    "    output_file.close()\n",
    "\n",
    "# Replace 'your_large_file.txt' with the path to the file you want to split\n",
    "split_large_file('genome_ids - Copia.txt')"
   ]
  },
  {
   "cell_type": "code",
   "execution_count": null,
   "metadata": {},
   "outputs": [],
   "source": []
  }
 ],
 "metadata": {
  "kernelspec": {
   "display_name": "Python 3",
   "language": "python",
   "name": "python3"
  },
  "language_info": {
   "codemirror_mode": {
    "name": "ipython",
    "version": 3
   },
   "file_extension": ".py",
   "mimetype": "text/x-python",
   "name": "python",
   "nbconvert_exporter": "python",
   "pygments_lexer": "ipython3",
   "version": "3.7.6"
  }
 },
 "nbformat": 4,
 "nbformat_minor": 4
}
